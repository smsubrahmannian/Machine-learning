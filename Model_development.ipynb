{
 "cells": [
  {
   "cell_type": "code",
   "execution_count": 1,
   "metadata": {},
   "outputs": [
    {
     "data": {
      "text/html": [
       "<style>.container { width:100% !important; }</style>"
      ],
      "text/plain": [
       "<IPython.core.display.HTML object>"
      ]
     },
     "metadata": {},
     "output_type": "display_data"
    }
   ],
   "source": [
    "from IPython.core.display import HTML, display\n",
    "display(HTML(\"<style>.container { width:100% !important; }</style>\"))"
   ]
  },
  {
   "cell_type": "code",
   "execution_count": 7,
   "metadata": {},
   "outputs": [
    {
     "name": "stdout",
     "output_type": "stream",
     "text": [
      "The autoreload extension is already loaded. To reload it, use:\n",
      "  %reload_ext autoreload\n"
     ]
    }
   ],
   "source": [
    "% load_ext autoreload\n",
    "% autoreload 2\n",
    "%matplotlib inline"
   ]
  },
  {
   "cell_type": "code",
   "execution_count": 1,
   "metadata": {
    "collapsed": true
   },
   "outputs": [],
   "source": [
    "import numpy as np\n",
    "import pandas as pd\n",
    "from pandas.core.dtypes.common import is_string_dtype,is_numeric_dtype\n",
    "from sklearn.model_selection import train_test_split,KFold,ParameterGrid\n",
    "from sklearn.ensemble import RandomForestRegressor,forest\n",
    "from sklearn.metrics import mean_squared_error,mean_absolute_error\n",
    "from tqdm._tqdm_notebook import tqdm\n",
    "from matplotlib import pyplot as plt\n",
    "import seaborn as sns\n",
    "import warnings\n",
    "from imp_functions import *\n",
    "\n",
    "warnings.filterwarnings('ignore')"
   ]
  },
  {
   "cell_type": "markdown",
   "metadata": {},
   "source": [
    "## Loading Data"
   ]
  },
  {
   "cell_type": "markdown",
   "metadata": {},
   "source": [
    "Here I load the cleaned data from the data exploration notebook and I also drop jobId which is equivalent to an ID. Hence we can conclusively say that jobId doesnt pay a role in predicting salary"
   ]
  },
  {
   "cell_type": "code",
   "execution_count": 2,
   "metadata": {
    "collapsed": true
   },
   "outputs": [],
   "source": [
    "PATH = './data/'\n",
    "train_df = pd.read_feather(PATH +'corrected_train.feather')\n",
    "test_df = pd.read_feather(PATH  +'corrected_test.feather')\n",
    "train_df.drop('jobId',inplace = True,axis=1)\n",
    "test_df.drop('jobId',inplace = True,axis=1)\n",
    "type_dict = {'companyId': 'O',\n",
    "             'degree': 'O',\n",
    "             'industry': 'O',\n",
    "             'jobType': 'O',\n",
    "             'major': 'O',\n",
    "             'milesFromMetropolis': 'int64',\n",
    "             'yearsExperience': 'O'}\n",
    "train_df = train_df.astype(type_dict)\n",
    "test_df  = test_df.astype(type_dict)\n",
    "test_df['salary'] = 0"
   ]
  },
  {
   "cell_type": "markdown",
   "metadata": {},
   "source": [
    "## Feature Engineering"
   ]
  },
  {
   "cell_type": "markdown",
   "metadata": {
    "collapsed": true
   },
   "source": [
    "Inspired by the data exploration activities undertaken, I intend to engineer the following feature\n",
    "1. Label Encoding of categorical features\n",
    "2. Target mean encoding of categorical features"
   ]
  },
  {
   "cell_type": "markdown",
   "metadata": {},
   "source": [
    "## Hyper-parameter tuning"
   ]
  },
  {
   "cell_type": "markdown",
   "metadata": {},
   "source": [
    "### Choosing the number of estimators"
   ]
  },
  {
   "cell_type": "code",
   "execution_count": 5,
   "metadata": {
    "collapsed": true
   },
   "outputs": [],
   "source": [
    "kf = KFold(2, random_state=0, shuffle=True)\n",
    "for train_idx, valid_idx in kf.split(train_df): # Split data into train and test\n",
    "    kf_train, kf_valid = train_df.iloc[train_idx,:], train_df.iloc[valid_idx,:]\n",
    "    kf_train.reset_index(inplace=True,drop=True)\n",
    "    kf_valid.reset_index(inplace=True,drop=True)\n",
    "\n",
    "initial_params = {'max_features': 'sqrt',\n",
    "                  'min_samples_leaf': 1,\n",
    "                  'n_estimators': 200,\n",
    "                  'n_jobs': -1,\n",
    "                  'random_state': 42}\n",
    "cols = ['companyId', 'jobType', 'degree', 'major', 'industry',\n",
    "       'yearsExperience']"
   ]
  },
  {
   "cell_type": "code",
   "execution_count": 9,
   "metadata": {
    "collapsed": true,
    "scrolled": true
   },
   "outputs": [],
   "source": [
    "rf_n_estm,_,train_n_estm,test_n_estm = train_model(initial_params,kf_train,\n",
    "                                                   kf_valid,'salary',cols,valid=False,metric = mean_squared_error)"
   ]
  },
  {
   "cell_type": "code",
   "execution_count": 10,
   "metadata": {
    "scrolled": true
   },
   "outputs": [
    {
     "data": {
      "image/png": "[encoded data removed]",
      "text/plain": [
       "<matplotlib.figure.Figure at 0x7f11504c7898>"
      ]
     },
     "metadata": {},
     "output_type": "display_data"
    }
   ],
   "source": [
    "# Next, check the effect of changing the number of trees on the MSE\n",
    "n_estim_calculate(rf_n_estm,test_n_estm)"
   ]
  },
  {
   "cell_type": "markdown",
   "metadata": {},
   "source": [
    "### Other Hyperparameters"
   ]
  },
  {
   "cell_type": "markdown",
   "metadata": {},
   "source": [
    "As we can see that we dont need more than 75 estimators to do get the best result. \n",
    "\n",
    "To get the optimal result for other parameters, we would need to tune the hyperparameters using one of the following approaches:\n",
    "1. **K Fold Cross Validation approach**<br>\n",
    "2. **Validation approach**"
   ]
  },
  {
   "cell_type": "markdown",
   "metadata": {},
   "source": [
    "I believe the former approach will enable us to reach the best solution and reduce the chance of overfitting. In the validation set approach, we look at one randomly selected test data and test the performance but it is not as rigourous as , in this approach, every fold is treated as training and testing data. The average errors from all the iterations is minimized to reach the best set of hyperparameters."
   ]
  },
  {
   "cell_type": "code",
   "execution_count": 11,
   "metadata": {
    "collapsed": true
   },
   "outputs": [],
   "source": [
    "# selected number of trees \n",
    "n_est_selected = 75"
   ]
  },
  {
   "cell_type": "code",
   "execution_count": 12,
   "metadata": {},
   "outputs": [
    {
     "name": "stderr",
     "output_type": "stream",
     "text": [
      "100%|██████████| 56/56 [1:24:34<00:00, 90.61s/it]\n"
     ]
    }
   ],
   "source": [
    "grid = {\n",
    "    'min_samples_leaf': [5,10,15,25,30,50,75,100],\n",
    "    'max_features': ['sqrt', 'log2', 'auto', 0.5, 0.25, 0.75,1],\n",
    "    'n_estimators': [n_est_selected],\n",
    "    'n_jobs': [-1],\n",
    "    'random_state': [42]\n",
    "}\n",
    "\n",
    "scores = perform_regularised_cv(train_df,'salary',grid,cols,metric=mean_squared_error)"
   ]
  },
  {
   "cell_type": "code",
   "execution_count": 16,
   "metadata": {},
   "outputs": [
    {
     "data": {
      "text/html": [
       "<div>\n",
       "<style scoped>\n",
       "    .dataframe tbody tr th:only-of-type {\n",
       "        vertical-align: middle;\n",
       "    }\n",
       "\n",
       "    .dataframe tbody tr th {\n",
       "        vertical-align: top;\n",
       "    }\n",
       "\n",
       "    .dataframe thead th {\n",
       "        text-align: right;\n",
       "    }\n",
       "</style>\n",
       "<table border=\"1\" class=\"dataframe\">\n",
       "  <thead>\n",
       "    <tr style=\"text-align: right;\">\n",
       "      <th></th>\n",
       "      <th>0</th>\n",
       "      <th>1</th>\n",
       "    </tr>\n",
       "  </thead>\n",
       "  <tbody>\n",
       "    <tr>\n",
       "      <th>27</th>\n",
       "      <td>{'max_features': 0.5, 'min_samples_leaf': 25, ...</td>\n",
       "      <td>363.645397</td>\n",
       "    </tr>\n",
       "    <tr>\n",
       "      <th>28</th>\n",
       "      <td>{'max_features': 0.5, 'min_samples_leaf': 30, ...</td>\n",
       "      <td>363.671848</td>\n",
       "    </tr>\n",
       "    <tr>\n",
       "      <th>44</th>\n",
       "      <td>{'max_features': 0.75, 'min_samples_leaf': 30,...</td>\n",
       "      <td>364.226534</td>\n",
       "    </tr>\n",
       "    <tr>\n",
       "      <th>43</th>\n",
       "      <td>{'max_features': 0.75, 'min_samples_leaf': 25,...</td>\n",
       "      <td>364.426698</td>\n",
       "    </tr>\n",
       "    <tr>\n",
       "      <th>26</th>\n",
       "      <td>{'max_features': 0.5, 'min_samples_leaf': 15, ...</td>\n",
       "      <td>364.537207</td>\n",
       "    </tr>\n",
       "    <tr>\n",
       "      <th>29</th>\n",
       "      <td>{'max_features': 0.5, 'min_samples_leaf': 50, ...</td>\n",
       "      <td>364.594981</td>\n",
       "    </tr>\n",
       "    <tr>\n",
       "      <th>45</th>\n",
       "      <td>{'max_features': 0.75, 'min_samples_leaf': 50,...</td>\n",
       "      <td>364.686958</td>\n",
       "    </tr>\n",
       "    <tr>\n",
       "      <th>2</th>\n",
       "      <td>{'max_features': 'sqrt', 'min_samples_leaf': 1...</td>\n",
       "      <td>364.778045</td>\n",
       "    </tr>\n",
       "    <tr>\n",
       "      <th>34</th>\n",
       "      <td>{'max_features': 0.25, 'min_samples_leaf': 15,...</td>\n",
       "      <td>364.778045</td>\n",
       "    </tr>\n",
       "    <tr>\n",
       "      <th>10</th>\n",
       "      <td>{'max_features': 'log2', 'min_samples_leaf': 1...</td>\n",
       "      <td>364.778045</td>\n",
       "    </tr>\n",
       "  </tbody>\n",
       "</table>\n",
       "</div>"
      ],
      "text/plain": [
       "                                                    0           1\n",
       "27  {'max_features': 0.5, 'min_samples_leaf': 25, ...  363.645397\n",
       "28  {'max_features': 0.5, 'min_samples_leaf': 30, ...  363.671848\n",
       "44  {'max_features': 0.75, 'min_samples_leaf': 30,...  364.226534\n",
       "43  {'max_features': 0.75, 'min_samples_leaf': 25,...  364.426698\n",
       "26  {'max_features': 0.5, 'min_samples_leaf': 15, ...  364.537207\n",
       "29  {'max_features': 0.5, 'min_samples_leaf': 50, ...  364.594981\n",
       "45  {'max_features': 0.75, 'min_samples_leaf': 50,...  364.686958\n",
       "2   {'max_features': 'sqrt', 'min_samples_leaf': 1...  364.778045\n",
       "34  {'max_features': 0.25, 'min_samples_leaf': 15,...  364.778045\n",
       "10  {'max_features': 'log2', 'min_samples_leaf': 1...  364.778045"
      ]
     },
     "execution_count": 16,
     "metadata": {},
     "output_type": "execute_result"
    }
   ],
   "source": [
    "pd.DataFrame(scores).sort_values(by=1).loc[:10,:]"
   ]
  },
  {
   "cell_type": "code",
   "execution_count": 14,
   "metadata": {
    "scrolled": true
   },
   "outputs": [
    {
     "data": {
      "text/plain": [
       "{'max_features': 0.5,\n",
       " 'min_samples_leaf': 25,\n",
       " 'n_estimators': 75,\n",
       " 'n_jobs': -1,\n",
       " 'random_state': 42}"
      ]
     },
     "execution_count": 14,
     "metadata": {},
     "output_type": "execute_result"
    }
   ],
   "source": [
    "best_params = pd.DataFrame(scores).sort_values(by=1)\n",
    "best_params.reset_index(drop=True,inplace=False)\n",
    "best_parameters = best_params.iloc[0,0]\n",
    "best_parameters "
   ]
  },
  {
   "cell_type": "markdown",
   "metadata": {},
   "source": [
    "Now that we have identified the best parameters, I will build my final model by training it on the entire dataset. "
   ]
  },
  {
   "cell_type": "code",
   "execution_count": 18,
   "metadata": {},
   "outputs": [
    {
     "data": {
      "text/plain": [
       "19.146719253930577"
      ]
     },
     "execution_count": 18,
     "metadata": {},
     "output_type": "execute_result"
    }
   ],
   "source": [
    "# Average RMSE score for cross validation \n",
    "np.sqrt(pd.DataFrame(scores).sort_values(by=1).loc[0,1])"
   ]
  },
  {
   "cell_type": "markdown",
   "metadata": {},
   "source": [
    "## Final Model and test predictions"
   ]
  },
  {
   "cell_type": "code",
   "execution_count": 15,
   "metadata": {
    "collapsed": true
   },
   "outputs": [],
   "source": [
    "final_model,_,train,test = train_model(best_parameters,train_df,test_df,'salary',cols,valid=False,metric = mean_squared_error)\n",
    "final_predictions = final_model.predict(test.drop('salary',axis=1))"
   ]
  },
  {
   "cell_type": "code",
   "execution_count": 19,
   "metadata": {},
   "outputs": [
    {
     "data": {
      "text/plain": [
       "array([ 113.31172136,   93.46512745,  178.28930499, ...,   56.38010863,\n",
       "        163.39746703,  114.24387036])"
      ]
     },
     "execution_count": 19,
     "metadata": {},
     "output_type": "execute_result"
    }
   ],
   "source": [
    "final_predictions"
   ]
  },
  {
   "cell_type": "code",
   "execution_count": 3,
   "metadata": {
    "collapsed": true
   },
   "outputs": [],
   "source": [
    "test_df = pd.read_feather(PATH  +'corrected_test.feather')"
   ]
  },
  {
   "cell_type": "code",
   "execution_count": 6,
   "metadata": {},
   "outputs": [],
   "source": [
    "test_df['salary'] = final_predictions"
   ]
  },
  {
   "cell_type": "code",
   "execution_count": 10,
   "metadata": {},
   "outputs": [],
   "source": [
    "test_df.loc[:,['jobId','salary']].to_csv('test_salaries.csv',index=False)"
   ]
  }
 ],
 "metadata": {
  "kernelspec": {
   "display_name": "Python 3",
   "language": "python",
   "name": "python3"
  },
  "language_info": {
   "codemirror_mode": {
    "name": "ipython",
    "version": 3
   },
   "file_extension": ".py",
   "mimetype": "text/x-python",
   "name": "python",
   "nbconvert_exporter": "python",
   "pygments_lexer": "ipython3",
   "version": "3.6.5"
  },
  "latex_envs": {
   "LaTeX_envs_menu_present": true,
   "autocomplete": true,
   "bibliofile": "biblio.bib",
   "cite_by": "apalike",
   "current_citInitial": 1,
   "eqLabelWithNumbers": true,
   "eqNumInitial": 1,
   "hotkeys": {
    "equation": "Ctrl-E",
    "itemize": "Ctrl-I"
   },
   "labels_anchors": false,
   "latex_user_defs": false,
   "report_style_numbering": false,
   "user_envs_cfg": false
  },
  "varInspector": {
   "cols": {
    "lenName": 16,
    "lenType": 16,
    "lenVar": 40
   },
   "kernels_config": {
    "python": {
     "delete_cmd_postfix": "",
     "delete_cmd_prefix": "del ",
     "library": "var_list.py",
     "varRefreshCmd": "print(var_dic_list())"
    },
    "r": {
     "delete_cmd_postfix": ") ",
     "delete_cmd_prefix": "rm(",
     "library": "var_list.r",
     "varRefreshCmd": "cat(var_dic_list()) "
    }
   },
   "types_to_exclude": [
    "module",
    "function",
    "builtin_function_or_method",
    "instance",
    "_Feature"
   ],
   "window_display": false
  }
 },
 "nbformat": 4,
 "nbformat_minor": 2
}
